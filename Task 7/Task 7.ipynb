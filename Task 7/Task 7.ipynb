{
 "cells": [
  {
   "cell_type": "code",
   "execution_count": 10,
   "metadata": {},
   "outputs": [
    {
     "name": "stdout",
     "output_type": "stream",
     "text": [
      "The answer is: 0.375\n"
     ]
    }
   ],
   "source": [
    "\"\"\"\n",
    "    Task 7 ==> IEEE CS (AI)\n",
    "    program that calculate the probability depending on the number of the appearance of either the head or the tail after many flips.\n",
    "    Solved By Ahmed Sharaf\n",
    "    Date = 10 / 3 / 2023\n",
    "\"\"\"\n",
    "\n",
    "def fact(number) : \n",
    "   \"\"\"\n",
    "    Calculate Factorial \n",
    "    Parameter => Number\n",
    "    return => Factorial This Number\n",
    "   \"\"\"\n",
    "   factorial = 1\n",
    "   for i in range(1,number + 1):\n",
    "       factorial = factorial*i\n",
    "   return factorial\n",
    "\n",
    "def input_from_user():\n",
    "    # Handle Error Input (Value Error or Not Valid Inpur)\n",
    "    try : \n",
    "        # Number Of Flips\n",
    "        num_of_flips = int(input(\"The number of flips: \").strip())\n",
    "        # Choise Type Neded To Calculate The probability \n",
    "        option = input(\"Head or Tail? \").strip().lower()\n",
    "        if option not in ['head','tail'] :\n",
    "            raise ValueError\n",
    "        # Number Of Appear You Need\n",
    "        num_of_option_appear = int(input(f\"The number of {option} appearance: \").strip())\n",
    "        if num_of_option_appear > num_of_flips :\n",
    "            raise ValueError\n",
    "        # probability Of This Individual Choise \n",
    "        probability_of_option = float(input(f\"The probability of {option} (< 1): \").strip())\n",
    "        if probability_of_option <= 0 or probability_of_option >= 1 : \n",
    "            raise ValueError \n",
    "        return num_of_flips , option , num_of_option_appear , probability_of_option\n",
    "    except ValueError :\n",
    "        print(\"Please Enter Valid Input 🙏\")\n",
    "    except KeyboardInterrupt :\n",
    "        print(\"Good Bye 👋\")\n",
    "        exit()\n",
    "try : \n",
    "    num_of_flips , option , num_of_option_appear , probability_of_option = input_from_user()\n",
    "except :\n",
    "    pass \n",
    "else :\n",
    "    # Calcuated Number Of repeated This probability\n",
    "    number_repeated = ( fact(num_of_flips) // (fact(num_of_option_appear) * fact(num_of_flips - num_of_option_appear))) \n",
    "    # Calculated Number Of probability This Event ( number of repeated * probability individual event)\n",
    "    answer = (probability_of_option ** num_of_option_appear) * ((1-probability_of_option) ** (num_of_flips - num_of_option_appear)) * (number_repeated) \n",
    "    print(f\"The answer is: {answer}\")\n",
    "\n"
   ]
  },
  {
   "attachments": {},
   "cell_type": "markdown",
   "metadata": {},
   "source": [
    "Another Solution Using Truth Table "
   ]
  },
  {
   "cell_type": "code",
   "execution_count": 12,
   "metadata": {},
   "outputs": [
    {
     "name": "stdout",
     "output_type": "stream",
     "text": [
      "Program to find the probability of occurrence of king and write ✌️\n",
      "\n",
      "\t   ##### Truth Table #####\n",
      "\n",
      "      Flips 1        Flips 2  \n",
      "          H             H   \n",
      "          H             T   \n",
      "          T             H   \n",
      "          T             T   \n",
      "\n",
      "number repeated : 2\n",
      "The answer is: 0.320\n"
     ]
    }
   ],
   "source": [
    "import numpy as np\n",
    "print(f\"Program to find the probability of occurrence of king and write ✌️\")\n",
    "try : \n",
    "    flip ,option ,choise ,probapility = input_from_user()\n",
    "except  :\n",
    "    pass\n",
    "else :\n",
    "    option = option.upper()[0]\n",
    "    truth_table = []\n",
    "    head = \"H \"\n",
    "    tail = \"T \"\n",
    "    for i in range(flip) :\n",
    "        temp = ''\n",
    "        for j in range(flip) :\n",
    "            temp = head + tail\n",
    "    \n",
    "        truth_table.append(temp)\n",
    "        head *= 2\n",
    "        tail *= 2\n",
    "\n",
    "    j = (2 ** flip) // 2\n",
    "    truth_table[-1] = truth_table[-1].split()\n",
    "    for i in range(len(truth_table) -1) :\n",
    "        truth_table[i] *= j\n",
    "        truth_table[i] = truth_table[i].split()\n",
    "        j //= 2 \n",
    "\n",
    "    truth_table = truth_table[::-1]\n",
    "    correc_truth = []\n",
    "    for i in range(len(truth_table[0])) :\n",
    "        for j in range(flip) :\n",
    "            correc_truth.append(truth_table[j][i])\n",
    "    arr = np.array(correc_truth)\n",
    "    arr = arr.reshape(2**flip,flip)\n",
    "    print(\"\\n\\t   ##### Truth Table #####\\n\")\n",
    "    for i in range(flip):\n",
    "        print(f\"      Flips {i+1} \",end=\" \")\n",
    "    print()\n",
    "    count = 0\n",
    "    number_repeated = 0\n",
    "    for i in range(2**flip) :\n",
    "        for j in range(flip) :\n",
    "            print(f\"          {arr[i,j]}  \",end=\" \")\n",
    "            if arr[i,j] == option :\n",
    "                count += 1\n",
    "        print()\n",
    "        if count == choise :\n",
    "            number_repeated += 1\n",
    "        count = 0\n",
    "\n",
    "    print(f\"\\nnumber repeated : {number_repeated}\")\n",
    "    answer = number_repeated * (probapility ** choise) * ( ( 1 - probapility ) ** ( flip - choise ))\n",
    "    print(f\"The answer is: {answer:0.3f}\")\n",
    "\n",
    "\n"
   ]
  },
  {
   "cell_type": "code",
   "execution_count": null,
   "metadata": {},
   "outputs": [],
   "source": []
  }
 ],
 "metadata": {
  "kernelspec": {
   "display_name": "Python 3",
   "language": "python",
   "name": "python3"
  },
  "language_info": {
   "codemirror_mode": {
    "name": "ipython",
    "version": 3
   },
   "file_extension": ".py",
   "mimetype": "text/x-python",
   "name": "python",
   "nbconvert_exporter": "python",
   "pygments_lexer": "ipython3",
   "version": "3.11.1"
  },
  "orig_nbformat": 4
 },
 "nbformat": 4,
 "nbformat_minor": 2
}
