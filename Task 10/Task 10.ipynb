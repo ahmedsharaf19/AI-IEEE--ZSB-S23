{
 "cells": [
  {
   "attachments": {},
   "cell_type": "markdown",
   "metadata": {},
   "source": [
    "Time Limit Exceeded"
   ]
  },
  {
   "cell_type": "code",
   "execution_count": 1,
   "metadata": {},
   "outputs": [
    {
     "name": "stdout",
     "output_type": "stream",
     "text": [
      "6\n",
      "9\n"
     ]
    }
   ],
   "source": [
    "class Solution(object):\n",
    "    def trap(self, height):\n",
    "        \"\"\"\n",
    "        :type height: List[int]\n",
    "        :rtype: int\n",
    "        \"\"\"\n",
    "        result = 0\n",
    "        for indx in range(len(height) - 1):\n",
    "            minimum_number = min(max(height[indx::-1]),max(height[indx:]))\n",
    "            result += (minimum_number - height[indx])\n",
    "\n",
    "        return result\n",
    "    \n",
    "height = [0,1,0,2,1,0,1,3,2,1,2,1]\n",
    "obj = Solution()\n",
    "print(obj.trap(height))\n",
    "height = [4,2,0,3,2,5]\n",
    "print(obj.trap(height))"
   ]
  },
  {
   "attachments": {},
   "cell_type": "markdown",
   "metadata": {},
   "source": [
    "Accepted"
   ]
  },
  {
   "cell_type": "code",
   "execution_count": 2,
   "metadata": {},
   "outputs": [
    {
     "name": "stdout",
     "output_type": "stream",
     "text": [
      "6\n",
      "9\n"
     ]
    }
   ],
   "source": [
    "class Solution(object):\n",
    "    def trap(self, height):\n",
    "        \"\"\"\n",
    "        :type height: List[int]\n",
    "        :rtype: int\n",
    "        \"\"\"\n",
    "        length =len(height)\n",
    "        left= length * [0]\n",
    "        right= length * [0]\n",
    "        left[0]=height[0]\n",
    "        right[length-1]=height[length-1]\n",
    "        res=0\n",
    "\n",
    "        for i in range(1,length):\n",
    "            left[i]=max(height[i],left[i-1])\n",
    "        for j in range(length-2,-1,-1):\n",
    "            right[j]=max(height[j],right[j+1])\n",
    "\n",
    "        for k in range(length):\n",
    "            res+=min(left[k],right[k])-height[k]\n",
    "\n",
    "        return res\n",
    "\n",
    "height = [0,1,0,2,1,0,1,3,2,1,2,1]\n",
    "obj = Solution()\n",
    "print(obj.trap(height))\n",
    "height = [4,2,0,3,2,5]\n",
    "print(obj.trap(height))"
   ]
  },
  {
   "attachments": {},
   "cell_type": "markdown",
   "metadata": {},
   "source": [
    "Best Optimize"
   ]
  },
  {
   "cell_type": "code",
   "execution_count": 9,
   "metadata": {},
   "outputs": [
    {
     "name": "stdout",
     "output_type": "stream",
     "text": [
      "6\n",
      "9\n"
     ]
    }
   ],
   "source": [
    "class Solution (object):\n",
    "    def trap(self, height) :\n",
    "        left , right = 0 , len(height) - 1\n",
    "        l_max , r_max = 0 , 0\n",
    "        res = 0\n",
    "\n",
    "        while (left < right) :\n",
    "            l_max = max(l_max, height[left])\n",
    "            r_max = max(r_max, height[right])\n",
    "\n",
    "            if (l_max < r_max) :\n",
    "                res += l_max - height[left]\n",
    "                left += 1\n",
    "            else :\n",
    "                res += r_max - height[right]\n",
    "                right -= 1\n",
    "        \n",
    "        return res\n",
    "    \n",
    "\n",
    "\n",
    "\n",
    "height = [0,1,0,2,1,0,1,3,2,1,2,1]\n",
    "obj = Solution()\n",
    "print(obj.trap(height))\n",
    "height = [4,2,0,3,2,5]\n",
    "print(obj.trap(height))"
   ]
  },
  {
   "cell_type": "code",
   "execution_count": null,
   "metadata": {},
   "outputs": [],
   "source": [
    "# Sources used to solve the problem\n",
    "\n",
    "# https://www.youtube.com/watch?v=Lrp9v-NQPXw&t=9s \n",
    "# https://www.youtube.com/watch?v=cW9cSCfoYRk\n",
    "# https://www.youtube.com/watch?v=DzO00Tv3zyk&t=508s"
   ]
  }
 ],
 "metadata": {
  "kernelspec": {
   "display_name": "Python 3",
   "language": "python",
   "name": "python3"
  },
  "language_info": {
   "codemirror_mode": {
    "name": "ipython",
    "version": 3
   },
   "file_extension": ".py",
   "mimetype": "text/x-python",
   "name": "python",
   "nbconvert_exporter": "python",
   "pygments_lexer": "ipython3",
   "version": "3.11.1"
  },
  "orig_nbformat": 4
 },
 "nbformat": 4,
 "nbformat_minor": 2
}
